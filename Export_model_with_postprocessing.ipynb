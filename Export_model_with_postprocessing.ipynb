{
 "cells": [
  {
   "cell_type": "code",
   "execution_count": 1,
   "id": "232d2613",
   "metadata": {},
   "outputs": [],
   "source": [
    "from models.common import DetectMultiBackend"
   ]
  },
  {
   "cell_type": "code",
   "execution_count": 2,
   "id": "45fce934",
   "metadata": {},
   "outputs": [
    {
     "name": "stdout",
     "output_type": "stream",
     "text": [
      "Downloading https://github.com/ultralytics/yolov5/releases/download/v6.1/yolov5s.pt to yolov5s.pt...\n"
     ]
    },
    {
     "data": {
      "application/vnd.jupyter.widget-view+json": {
       "model_id": "153f30a3b7ef4eb8a9d5882f683b93bc",
       "version_major": 2,
       "version_minor": 0
      },
      "text/plain": [
       "  0%|          | 0.00/14.1M [00:00<?, ?B/s]"
      ]
     },
     "metadata": {},
     "output_type": "display_data"
    },
    {
     "name": "stderr",
     "output_type": "stream",
     "text": [
      "Fusing layers... \n"
     ]
    },
    {
     "name": "stdout",
     "output_type": "stream",
     "text": [
      "\n"
     ]
    },
    {
     "name": "stderr",
     "output_type": "stream",
     "text": [
      "YOLOv5s summary: 213 layers, 7225885 parameters, 0 gradients\n"
     ]
    }
   ],
   "source": [
    "weights = \"./yolov5s.pt\"\n",
    "\n",
    "model = DetectMultiBackend(weights)"
   ]
  },
  {
   "cell_type": "code",
   "execution_count": 3,
   "id": "5e490dd7",
   "metadata": {},
   "outputs": [],
   "source": [
    "from utils.datasets import LoadImages\n",
    "\n",
    "source = \"./data/images/bus.jpg\"\n",
    "\n",
    "imgsz = (640,640)\n",
    "stride = model.stride\n",
    "pt = model.pt\n",
    "\n",
    "dataset = LoadImages(source, img_size=imgsz, stride=stride, auto=pt)"
   ]
  },
  {
   "cell_type": "code",
   "execution_count": 5,
   "id": "7694ed48",
   "metadata": {},
   "outputs": [],
   "source": [
    "import torch\n",
    "\n",
    "path, im, im0s, vid_cap, s = next(iter(dataset))\n",
    "\n",
    "im = torch.from_numpy(im).float()\n",
    "im /= 255.0\n",
    "im = im[None]"
   ]
  },
  {
   "cell_type": "code",
   "execution_count": 11,
   "id": "5a83bcb5",
   "metadata": {},
   "outputs": [],
   "source": [
    "import torch.nn as nn\n",
    "\n",
    "class FilterConfidence(nn.Module):\n",
    "    def __init__(self, conf_thres=0.25):\n",
    "        super(FilterConfidence, self).__init__()\n",
    "        self.conf_thres = conf_thres\n",
    "        \n",
    "    def forward(self, x):\n",
    "        idx = x[..., 4] > self.conf_thres\n",
    "        x = x[idx]\n",
    "        return x"
   ]
  },
  {
   "cell_type": "code",
   "execution_count": 12,
   "id": "8a64b432",
   "metadata": {},
   "outputs": [],
   "source": [
    "f = FilterConfidence()\n",
    "\n",
    "model_with_postprocessing = nn.Sequential(model, f)"
   ]
  },
  {
   "cell_type": "code",
   "execution_count": 14,
   "id": "ac619b21",
   "metadata": {},
   "outputs": [
    {
     "name": "stderr",
     "output_type": "stream",
     "text": [
      "/home/dhuynh95/test/yolov5/models/yolo.py:60: TracerWarning: Converting a tensor to a Python boolean might cause the trace to be incorrect. We can't record the data flow of Python values, so this value will be treated as a constant in the future. This means that the trace might not generalize to other inputs!\n",
      "  if self.onnx_dynamic or self.grid[i].shape[2:4] != x[i].shape[2:4]:\n"
     ]
    }
   ],
   "source": [
    "torch.onnx.export(model_with_postprocessing, im, \"yolo_with_postprocessing.onnx\", opset_version=11)"
   ]
  }
 ],
 "metadata": {
  "kernelspec": {
   "display_name": "Python 3 (ipykernel)",
   "language": "python",
   "name": "python3"
  },
  "language_info": {
   "codemirror_mode": {
    "name": "ipython",
    "version": 3
   },
   "file_extension": ".py",
   "mimetype": "text/x-python",
   "name": "python",
   "nbconvert_exporter": "python",
   "pygments_lexer": "ipython3",
   "version": "3.8.10"
  }
 },
 "nbformat": 4,
 "nbformat_minor": 5
}
